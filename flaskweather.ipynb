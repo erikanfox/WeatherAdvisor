{
 "cells": [
  {
   "cell_type": "code",
   "execution_count": 14,
   "metadata": {},
   "outputs": [
    {
     "ename": "ModuleNotFoundError",
     "evalue": "No module named 'fastapi'",
     "output_type": "error",
     "traceback": [
      "\u001b[0;31m---------------------------------------------------------------------------\u001b[0m",
      "\u001b[0;31mModuleNotFoundError\u001b[0m                       Traceback (most recent call last)",
      "\u001b[0;32m/var/folders/5b/sjkc4b8n0hs41zd03hxr66100000gn/T/ipykernel_15503/4101502236.py\u001b[0m in \u001b[0;36m<module>\u001b[0;34m\u001b[0m\n\u001b[1;32m      3\u001b[0m \u001b[0;32mfrom\u001b[0m \u001b[0msklearn\u001b[0m\u001b[0;34m.\u001b[0m\u001b[0mmodel_selection\u001b[0m \u001b[0;32mimport\u001b[0m \u001b[0mtrain_test_split\u001b[0m \u001b[0;31m# Import train_test_split function\u001b[0m\u001b[0;34m\u001b[0m\u001b[0;34m\u001b[0m\u001b[0m\n\u001b[1;32m      4\u001b[0m \u001b[0;32mfrom\u001b[0m \u001b[0msklearn\u001b[0m \u001b[0;32mimport\u001b[0m \u001b[0mmetrics\u001b[0m \u001b[0;31m#Import scikit-learn metrics module for accuracy calculation\u001b[0m\u001b[0;34m\u001b[0m\u001b[0;34m\u001b[0m\u001b[0m\n\u001b[0;32m----> 5\u001b[0;31m \u001b[0;32mfrom\u001b[0m \u001b[0mfastapi\u001b[0m \u001b[0;32mimport\u001b[0m \u001b[0mFastAPI\u001b[0m\u001b[0;34m\u001b[0m\u001b[0;34m\u001b[0m\u001b[0m\n\u001b[0m\u001b[1;32m      6\u001b[0m \u001b[0;32mimport\u001b[0m \u001b[0muvicorn\u001b[0m\u001b[0;34m\u001b[0m\u001b[0;34m\u001b[0m\u001b[0m\n\u001b[1;32m      7\u001b[0m \u001b[0;34m\u001b[0m\u001b[0m\n",
      "\u001b[0;31mModuleNotFoundError\u001b[0m: No module named 'fastapi'"
     ]
    }
   ],
   "source": [
    "import pandas as pd\n",
    "from sklearn.tree import DecisionTreeClassifier # Import Decision Tree Classifier\n",
    "from sklearn.model_selection import train_test_split # Import train_test_split function\n",
    "from sklearn import metrics #Import scikit-learn metrics module for accuracy calculation\n",
    "from fastapi import FastAPI\n",
    "import uvicorn\n",
    "\n",
    "data = pd.read_csv(\"clothing_weather.csv\")\n",
    "data\n",
    "\n",
    "app = FastAPI()"
   ]
  },
  {
   "cell_type": "code",
   "execution_count": null,
   "metadata": {},
   "outputs": [],
   "source": [
    "@app.get(\"/\")\n",
    "async def root():\n",
    "    \"\"\"Weather Advisor Welcome\"\"\"\n",
    "    return {\"message\": \"Hello, welcome to Weather advisor! Enter a word to calculate it's score.\"}\n"
   ]
  },
  {
   "cell_type": "code",
   "execution_count": null,
   "metadata": {},
   "outputs": [],
   "source": [
    "@app.get(\"/weatheradvisor/{temp}/{rain}/{snow}\")\n",
    "async def weatheradvisor(temp: int,rain:int,snow:int):\n",
    "    y=predict(temp,rain,snow)\n",
    "    message=getMessage(y[0], rain, snow)\n",
    "    return \"You should wear {0}\".format(message))"
   ]
  },
  {
   "cell_type": "code",
   "execution_count": null,
   "metadata": {},
   "outputs": [],
   "source": [
    "async def predict(temp: int,rain:int,snow:int): \n",
    "    data[\"rain\"] = data[\"rain\"].replace(\"no\", 0)\n",
    "    data[\"rain\"] = data[\"rain\"].replace(\"yes\", 1)\n",
    "    data[\"snow\"] = data[\"rain\"].replace(\"no\", 0)\n",
    "    data[\"snow\"] = data[\"rain\"].replace(\"yes\", 1)\n",
    "\n",
    "    feature_cols = ['temp_f','rain','snow']\n",
    "    X = data[feature_cols] # Features\n",
    "    y = data.overall # Target variabley\n",
    "\n",
    "    X_train, X_test, y_train, y_test = train_test_split(X, y, test_size=0.3, random_state=1)\n",
    "\n",
    "    clf = DecisionTreeClassifier(criterion=\"entropy\", max_depth=4)\n",
    "\n",
    "    # Train Decision Tree Classifer\n",
    "    clf = clf.fit(X_train,y_train)\n",
    "\n",
    "    #Predict the response for test dataset\n",
    "    y_pred = clf.predict(X_test)\n",
    "\n",
    "    print(\"Accuracy:\",metrics.accuracy_score(y_test, y_pred))\n",
    "\n",
    "    y_pred = clf.predict([temp,rain,snow])\n",
    "    #print the predicted outfit code\n",
    "    return y_pred"
   ]
  },
  {
   "cell_type": "code",
   "execution_count": 1,
   "metadata": {},
   "outputs": [],
   "source": [
    "def getMessage(pred, rain, snow):\n",
    "    ans=\"\"\n",
    "    outfit_code = {\n",
    "        1: \"a short sleeve shirt and shorts.\",\n",
    "        2: \"a short sleeve shirt and long pants.\",\n",
    "        3: \"a short sleeve shirt, shorts and a light jacket or sweatshirt.\",\n",
    "        4: \"a short sleeve shirt, long pants, and a light jacket or sweatshirt.\",\n",
    "        5: \"a long sleeve shirt, long pants, and a light jacket or sweatshirt.\",\n",
    "        6: \"a short sleeve shirt, long pants, and a heavy jacket.\",\n",
    "        7: \"a long sleeve shirt or sweater, long pants, and a heavy jacket.\",\n",
    "        8: \"a long sleeve shirt and shorts.\"\n",
    "    }\n",
    "\n",
    "    if pred in outfit_code:\n",
    "        ans=ans+outfit_code[pred]\n",
    "    else:\n",
    "        return \"an error occurred\"\n",
    "    \n",
    "    if rain == 1:\n",
    "        ans=ans+ \" You may also want a rain jacket, rain boots, and/or an umbrella.\"\n",
    "\n",
    "    if snow == 1:\n",
    "        ans=ans+ \" You should also bring a scarf, gloves, and snow boots!\"\n",
    "    \n",
    "    return ans\n"
   ]
  },
  {
   "cell_type": "code",
   "execution_count": null,
   "metadata": {},
   "outputs": [],
   "source": []
  },
  {
   "cell_type": "code",
   "execution_count": null,
   "metadata": {},
   "outputs": [],
   "source": []
  }
 ],
 "metadata": {
  "interpreter": {
   "hash": "8ff6fb2b77b87bd4f4ae2e6ac66b39f4ad33ae5721d6883644090ce24ad0605a"
  },
  "kernelspec": {
   "display_name": "Python 3.9.5 64-bit ('base': conda)",
   "name": "python3"
  },
  "language_info": {
   "codemirror_mode": {
    "name": "ipython",
    "version": 3
   },
   "file_extension": ".py",
   "mimetype": "text/x-python",
   "name": "python",
   "nbconvert_exporter": "python",
   "pygments_lexer": "ipython3",
   "version": "3.9.5"
  },
  "orig_nbformat": 4
 },
 "nbformat": 4,
 "nbformat_minor": 2
}
